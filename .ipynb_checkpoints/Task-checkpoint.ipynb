{
 "cells": [
  {
   "cell_type": "markdown",
   "id": "7da85d27",
   "metadata": {},
   "source": [
    "Finding Errors and Printing them in the terminal"
   ]
  },
  {
   "cell_type": "code",
   "execution_count": null,
   "id": "d87630f8",
   "metadata": {},
   "outputs": [],
   "source": [
    "import re\n",
    "from collections import Counter\n",
    "import os"
   ]
  },
  {
   "cell_type": "code",
   "execution_count": 3,
   "id": "e5cf7b26",
   "metadata": {},
   "outputs": [
    {
     "name": "stdout",
     "output_type": "stream",
     "text": [
      "\n",
      "Error Types and Their Counts in the file Ms_webservices4.log1 :\n",
      "DelegatingErrorHandlingRunnable: 184 times\n",
      "BFL Token API Error: 46 times\n",
      "\n",
      "Error Types and Their Counts in the file Ms_webservices4.log11620 :\n",
      "DelegatingErrorHandlingRunnable: 452 times\n",
      "BFL Token API Error: 88 times\n",
      "\n",
      "Error Types and Their Counts in the file Ms_webservices4.log11621 :\n",
      "DelegatingErrorHandlingRunnable: 142 times\n",
      "BFL Token API Error: 29 times\n",
      "\n",
      "Error Types and Their Counts in the file Ms_webservices4.log11622 :\n",
      "DelegatingErrorHandlingRunnable: 348 times\n",
      "BFL Token API Error: 87 times\n",
      "\n",
      "Error Types and Their Counts in the file Ms_webservices4.log11623 :\n",
      "DelegatingErrorHandlingRunnable: 192 times\n",
      "BFL Token API Error: 16 times\n",
      "\n",
      "Error Types and Their Counts in the file Ms_webservices4.log11624 :\n",
      "BFL Token API Error: 47 times\n",
      "DelegatingErrorHandlingRunnable: 184 times\n",
      "\n",
      "Error Types and Their Counts in the file Ms_webservices4.log11625 :\n",
      "DelegatingErrorHandlingRunnable: 266 times\n",
      "BFL Token API Error: 66 times\n",
      "\n",
      "Error Types and Their Counts in the file Ms_webservices4.log11626 :\n",
      "DelegatingErrorHandlingRunnable: 92 times\n",
      "BFL Token API Error: 23 times\n",
      "\n",
      "Error Types and Their Counts in the file Ms_webservices4.log11627 :\n",
      "DelegatingErrorHandlingRunnable: 238 times\n",
      "BFL Token API Error: 59 times\n",
      "\n",
      "Error Types and Their Counts in the file Ms_webservices4.log11628 :\n",
      "BFL Token API Error: 63 times\n",
      "DelegatingErrorHandlingRunnable: 366 times\n",
      "\n",
      "Error Types and Their Counts in the file Ms_webservices4.log11629 :\n",
      "DelegatingErrorHandlingRunnable: 130 times\n",
      "BFL Token API Error: 26 times\n",
      "\n",
      "Error Types and Their Counts in the file Ms_webservices4.log11630 :\n",
      "BFL Token API Error: 67 times\n",
      "DelegatingErrorHandlingRunnable: 266 times\n",
      "\n",
      "Error Types and Their Counts in the file Ms_webservices4.log11631 :\n",
      "DelegatingErrorHandlingRunnable: 204 times\n",
      "BFL Token API Error: 48 times\n",
      "\n",
      "Error Types and Their Counts in the file Ms_webservices4.log11632 :\n",
      "DelegatingErrorHandlingRunnable: 202 times\n",
      "BFL Token API Error: 19 times\n",
      "\n",
      "Error Types and Their Counts in the file Ms_webservices4.log11633 :\n",
      "DelegatingErrorHandlingRunnable: 260 times\n",
      "BFL Token API Error: 65 times\n"
     ]
    }
   ],
   "source": [
    "\n",
    "def find_errors(log_file):\n",
    "    error_pattern = r'\\b(DelegatingErrorHandlingRunnable|BFL Token API Error)\\b'\n",
    "\n",
    "    error_counter = Counter()\n",
    "\n",
    "    with open(log_file, 'r') as file:\n",
    "        for line in file:\n",
    "            errors = re.findall(error_pattern, line)\n",
    "            for error in errors:\n",
    "                error_counter[error] += 1\n",
    "\n",
    "    return error_counter\n",
    "\n",
    "def display_errors(error_counter):\n",
    "    if not error_counter:\n",
    "        print(\"No errors found in the log file.\")\n",
    "        return\n",
    "\n",
    "    print(f\"\\nError Types and Their Counts in the file {log_file} :\")\n",
    "    for error, count in error_counter.items():\n",
    "        print(f\"{error}: {count} times\")\n",
    "\n",
    "if __name__ == \"__main__\":\n",
    "    log_folder = 'errors'\n",
    "\n",
    "    for log_file in os.listdir(log_folder):\n",
    "        if log_file.startswith('Ms_webservices4'):\n",
    "            log_file_path = os.path.join(log_folder, log_file)\n",
    "\n",
    "            error_counter = find_errors(log_file_path)\n",
    "            display_errors(error_counter)\n"
   ]
  },
  {
   "cell_type": "code",
   "execution_count": null,
   "id": "e2a6099e",
   "metadata": {},
   "outputs": [],
   "source": []
  },
  {
   "cell_type": "markdown",
   "id": "634b350a",
   "metadata": {},
   "source": [
    "Collecting the Error types and its count in csv files"
   ]
  },
  {
   "cell_type": "code",
   "execution_count": null,
   "id": "91181ae9",
   "metadata": {},
   "outputs": [],
   "source": [
    "import re\n",
    "from collections import Counter\n",
    "import os\n",
    "import csv\n",
    "import shutil"
   ]
  },
  {
   "cell_type": "code",
   "execution_count": 7,
   "id": "8c49da89",
   "metadata": {},
   "outputs": [
    {
     "name": "stdout",
     "output_type": "stream",
     "text": [
      "Results for DelegatingErrorHandlingRunnable saved to DelegatingErrorHandlingRunnable_error_counts.csv\n",
      "\n",
      "Results for BFL Token API Error saved to BFL Token API Error_error_counts.csv\n",
      "\n",
      "DelegatingErrorHandlingRunnable_error_counts.csv moved to Dashboard CSV Files\\DelegatingErrorHandlingRunnable_error_counts.csv\n",
      "\n",
      "BFL Token API Error_error_counts.csv moved to Dashboard CSV Files\\BFL Token API Error_error_counts.csv\n",
      "\n"
     ]
    }
   ],
   "source": [
    "\n",
    "\n",
    "def find_errors(log_file, error_counter, error_type):\n",
    "    error_pattern = r'\\b(' + error_type + r')\\b'\n",
    "\n",
    "    with open(log_file, 'r') as file:\n",
    "        for line in file:\n",
    "            errors = re.findall(error_pattern, line)\n",
    "            for error in errors:\n",
    "                error_counter[error] += 1\n",
    "\n",
    "def save_error_counts_to_csv(log_files, error_type, csv_filename):\n",
    "    with open(csv_filename, 'w', newline='') as csv_file:\n",
    "        writer = csv.writer(csv_file)\n",
    "        writer.writerow(['Log File', 'Error Type', 'Count'])  \n",
    "        for log_file in log_files:\n",
    "            error_counter = Counter() \n",
    "            find_errors(log_file, error_counter, error_type)\n",
    "            writer.writerow([os.path.basename(log_file), error_type, error_counter[error_type]])\n",
    "\n",
    "def move_csv_files_to_dashboard_folder(error_types):\n",
    "    dashboard_folder = 'Dashboard CSV Files'  \n",
    "    if not os.path.exists(dashboard_folder):\n",
    "        os.makedirs(dashboard_folder)\n",
    "\n",
    "    for error_type in error_types:\n",
    "        csv_filename = f'{error_type}_error_counts.csv'\n",
    "        destination = os.path.join(dashboard_folder, csv_filename)\n",
    "        shutil.move(csv_filename, destination)\n",
    "        print(f\"{csv_filename} moved to {destination}\\n\")\n",
    "\n",
    "if __name__ == \"__main__\":\n",
    "    log_folder = 'errors' \n",
    "    error_types = ['DelegatingErrorHandlingRunnable', 'BFL Token API Error']\n",
    "    log_files = [os.path.join(log_folder, log_file) for log_file in os.listdir(log_folder) if log_file.startswith('Ms_webservices4')]\n",
    "\n",
    "    for error_type in error_types:\n",
    "        csv_filename = f'{error_type}_error_counts.csv'\n",
    "        save_error_counts_to_csv(log_files, error_type, csv_filename)\n",
    "        print(f\"Results for {error_type} saved to {csv_filename}\\n\")\n",
    "\n",
    "    move_csv_files_to_dashboard_folder(error_types)\n"
   ]
  },
  {
   "cell_type": "code",
   "execution_count": null,
   "id": "aa44077e",
   "metadata": {},
   "outputs": [],
   "source": []
  }
 ],
 "metadata": {
  "kernelspec": {
   "display_name": "Python 3 (ipykernel)",
   "language": "python",
   "name": "python3"
  },
  "language_info": {
   "codemirror_mode": {
    "name": "ipython",
    "version": 3
   },
   "file_extension": ".py",
   "mimetype": "text/x-python",
   "name": "python",
   "nbconvert_exporter": "python",
   "pygments_lexer": "ipython3",
   "version": "3.9.12"
  }
 },
 "nbformat": 4,
 "nbformat_minor": 5
}
